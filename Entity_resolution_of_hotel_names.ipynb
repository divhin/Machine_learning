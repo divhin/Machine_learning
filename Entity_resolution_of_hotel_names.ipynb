{
 "cells": [
  {
   "cell_type": "code",
   "execution_count": 110,
   "metadata": {},
   "outputs": [],
   "source": [
    "import json\n",
    "import csv\n",
    "import seaborn as sns\n",
    "import os\n",
    "import pandas as pd\n",
    "from pandas import DataFrame, merge\n",
    "import Levenshtein as lv\n",
    "import numpy as np\n",
    "import sklearn as sk\n",
    "from sklearn.metrics import roc_auc_score\n",
    "from sklearn.metrics import f1_score, make_scorer\n",
    "from sklearn import ensemble\n",
    "from sklearn.model_selection import train_test_split as sksplit \n",
    "from sklearn.model_selection import cross_val_score, GridSearchCV\n",
    "from imblearn.over_sampling import SMOTE\n",
    "import codecs, difflib, distance\n",
    "\n",
    "from sklearn.preprocessing import scale, PolynomialFeatures\n",
    "from sklearn import linear_model as lm\n",
    "from sklearn import preprocessing\n",
    "import datetime\n",
    "import matplotlib.pyplot as plt\n",
    "\n"
   ]
  },
  {
   "cell_type": "code",
   "execution_count": 111,
   "metadata": {},
   "outputs": [],
   "source": [
    "locu_train_path = 'train/locu_train.json'\n",
    "foursquare_train_path = 'train/foursquare_train.json'\n",
    "matches_train_path = 'train/matches_train.csv'\n",
    "locu_test_path = 'online_competition/locu_test.json'\n",
    "foursquare_test_path = 'online_competition/foursquare_test.json'"
   ]
  },
  {
   "cell_type": "code",
   "execution_count": 112,
   "metadata": {
    "scrolled": true
   },
   "outputs": [],
   "source": [
    "#Loading Data\n",
    "locu_train = json.load(open(locu_train_path))\n",
    "foursquare_train = json.load(open(foursquare_train_path))\n",
    "matches_train = pd.read_csv(matches_train_path)"
   ]
  },
  {
   "cell_type": "code",
   "execution_count": 113,
   "metadata": {},
   "outputs": [],
   "source": [
    "#simultaneously processing test data\n",
    "locu_test = json.load(open(locu_test_path))\n",
    "foursquare_test = json.load(open(foursquare_test_path))"
   ]
  },
  {
   "cell_type": "code",
   "execution_count": 114,
   "metadata": {},
   "outputs": [],
   "source": [
    "#Make DFs of train data\n",
    "locu_train_df = pd.DataFrame(locu_train)\n",
    "fsq_train_df = pd.DataFrame(foursquare_train)"
   ]
  },
  {
   "cell_type": "code",
   "execution_count": 115,
   "metadata": {},
   "outputs": [],
   "source": [
    "#simultaneously processing test data\n",
    "locu_test_df = pd.DataFrame(locu_test)\n",
    "fsq_test_df = pd.DataFrame(foursquare_test)"
   ]
  },
  {
   "cell_type": "code",
   "execution_count": 116,
   "metadata": {},
   "outputs": [],
   "source": [
    "#Check for feature variance\n",
    "\n",
    "#Removing features that do not help classify\n",
    "#Ex: country,locality(covered in pincode),region \n",
    "locu_train_df.drop(['country','locality','region'], axis = 1, inplace= True)\n",
    "fsq_train_df.drop(['country','locality','region'], axis = 1, inplace= True)"
   ]
  },
  {
   "cell_type": "code",
   "execution_count": 117,
   "metadata": {},
   "outputs": [],
   "source": [
    "#similarly updating test set\n",
    "locu_test_df.drop(['country','locality','region'], axis = 1, inplace= True)\n",
    "fsq_test_df.drop(['country','locality','region'], axis = 1, inplace= True)"
   ]
  },
  {
   "cell_type": "code",
   "execution_count": 118,
   "metadata": {},
   "outputs": [],
   "source": [
    "#Handle NAs"
   ]
  },
  {
   "cell_type": "code",
   "execution_count": 119,
   "metadata": {
    "scrolled": true
   },
   "outputs": [
    {
     "data": {
      "text/plain": [
       "id                False\n",
       "latitude          False\n",
       "longitude         False\n",
       "name              False\n",
       "phone              True\n",
       "postal_code       False\n",
       "street_address    False\n",
       "website           False\n",
       "dtype: bool"
      ]
     },
     "execution_count": 119,
     "metadata": {},
     "output_type": "execute_result"
    }
   ],
   "source": [
    "fsq_train_df.isnull().any()"
   ]
  },
  {
   "cell_type": "code",
   "execution_count": 120,
   "metadata": {},
   "outputs": [
    {
     "data": {
      "text/plain": [
       "181"
      ]
     },
     "execution_count": 120,
     "metadata": {},
     "output_type": "execute_result"
    }
   ],
   "source": [
    "fsq_test_df['phone'].isnull().sum()"
   ]
  },
  {
   "cell_type": "code",
   "execution_count": 121,
   "metadata": {},
   "outputs": [
    {
     "name": "stderr",
     "output_type": "stream",
     "text": [
      "/Users/divyahindupur/anaconda2/envs/py35/lib/python3.5/site-packages/ipykernel_launcher.py:5: SettingWithCopyWarning: \n",
      "A value is trying to be set on a copy of a slice from a DataFrame\n",
      "\n",
      "See the caveats in the documentation: http://pandas.pydata.org/pandas-docs/stable/indexing.html#indexing-view-versus-copy\n",
      "  \"\"\"\n",
      "/Users/divyahindupur/anaconda2/envs/py35/lib/python3.5/site-packages/ipykernel_launcher.py:6: SettingWithCopyWarning: \n",
      "A value is trying to be set on a copy of a slice from a DataFrame\n",
      "\n",
      "See the caveats in the documentation: http://pandas.pydata.org/pandas-docs/stable/indexing.html#indexing-view-versus-copy\n",
      "  \n",
      "/Users/divyahindupur/anaconda2/envs/py35/lib/python3.5/site-packages/ipykernel_launcher.py:10: SettingWithCopyWarning: \n",
      "A value is trying to be set on a copy of a slice from a DataFrame\n",
      "\n",
      "See the caveats in the documentation: http://pandas.pydata.org/pandas-docs/stable/indexing.html#indexing-view-versus-copy\n",
      "  # Remove the CWD from sys.path while we load stuff.\n",
      "/Users/divyahindupur/anaconda2/envs/py35/lib/python3.5/site-packages/ipykernel_launcher.py:11: SettingWithCopyWarning: \n",
      "A value is trying to be set on a copy of a slice from a DataFrame\n",
      "\n",
      "See the caveats in the documentation: http://pandas.pydata.org/pandas-docs/stable/indexing.html#indexing-view-versus-copy\n",
      "  # This is added back by InteractiveShellApp.init_path()\n"
     ]
    }
   ],
   "source": [
    "#remove formatting in fsq to match that in locu\n",
    "#fsq_train_df['phone'].unique() \n",
    "fsq_train_df['phone']=fsq_train_df['phone'].str.replace(r\"[()-]\",'') #remove ()-\n",
    "fsq_train_df['phone']=fsq_train_df['phone'].str.replace('\\s+','') #remove spaces\n",
    "locu_train_df['phone'][locu_train_df['phone']==''] = None #encode empty as missing \n",
    "fsq_train_df['phone'][fsq_train_df['phone']==''] = None #encode empty as missing \n",
    "#same with test\n",
    "fsq_test_df['phone']=fsq_test_df['phone'].str.replace(r\"[()-]\",'') #remove ()-\n",
    "fsq_test_df['phone']=fsq_test_df['phone'].str.replace('\\s+','') #remove spaces\n",
    "locu_test_df['phone'][locu_test_df['phone']==''] = None #encode empty as missing \n",
    "fsq_test_df['phone'][fsq_test_df['phone']==''] = None #encode empty as missing "
   ]
  },
  {
   "cell_type": "code",
   "execution_count": 122,
   "metadata": {
    "scrolled": true
   },
   "outputs": [
    {
     "data": {
      "text/plain": [
       "id                False\n",
       "latitude           True\n",
       "longitude          True\n",
       "name              False\n",
       "phone              True\n",
       "postal_code       False\n",
       "street_address    False\n",
       "website           False\n",
       "dtype: bool"
      ]
     },
     "execution_count": 122,
     "metadata": {},
     "output_type": "execute_result"
    }
   ],
   "source": [
    "locu_train_df.isnull().any()"
   ]
  },
  {
   "cell_type": "code",
   "execution_count": 123,
   "metadata": {},
   "outputs": [
    {
     "data": {
      "text/plain": [
       "1"
      ]
     },
     "execution_count": 123,
     "metadata": {},
     "output_type": "execute_result"
    }
   ],
   "source": [
    "locu_train_df['latitude'].isnull().sum()"
   ]
  },
  {
   "cell_type": "code",
   "execution_count": 124,
   "metadata": {},
   "outputs": [
    {
     "data": {
      "text/plain": [
       "1"
      ]
     },
     "execution_count": 124,
     "metadata": {},
     "output_type": "execute_result"
    }
   ],
   "source": [
    "locu_train_df['longitude'].isnull().sum()"
   ]
  },
  {
   "cell_type": "code",
   "execution_count": 125,
   "metadata": {
    "scrolled": true
   },
   "outputs": [],
   "source": [
    "#filling NA with -1\n",
    "locu_train_df['longitude'].fillna(np.NaN,inplace=True)\n",
    "locu_train_df['latitude'].fillna(np.NaN,inplace=True)"
   ]
  },
  {
   "cell_type": "code",
   "execution_count": 126,
   "metadata": {
    "scrolled": true
   },
   "outputs": [],
   "source": [
    "#updating test\n",
    "locu_test_df['longitude'].fillna(np.NaN,inplace=True)\n",
    "locu_test_df['latitude'].fillna(np.NaN,inplace=True)"
   ]
  },
  {
   "cell_type": "code",
   "execution_count": 127,
   "metadata": {},
   "outputs": [
    {
     "data": {
      "text/plain": [
       "(315, 8)"
      ]
     },
     "execution_count": 127,
     "metadata": {},
     "output_type": "execute_result"
    }
   ],
   "source": [
    "locu_train_df[locu_train_df['website'] == ''].shape"
   ]
  },
  {
   "cell_type": "code",
   "execution_count": 128,
   "metadata": {},
   "outputs": [
    {
     "data": {
      "text/plain": [
       "(488, 8)"
      ]
     },
     "execution_count": 128,
     "metadata": {},
     "output_type": "execute_result"
    }
   ],
   "source": [
    "fsq_train_df[fsq_train_df['website'] == ''].shape"
   ]
  },
  {
   "cell_type": "code",
   "execution_count": 129,
   "metadata": {},
   "outputs": [],
   "source": [
    "#'website' is more than 50% sparse > Remove"
   ]
  },
  {
   "cell_type": "code",
   "execution_count": 130,
   "metadata": {},
   "outputs": [],
   "source": [
    "locu_train_df.drop(['website'], axis = 1, inplace= True)\n",
    "fsq_train_df.drop(['website'], axis = 1, inplace= True)"
   ]
  },
  {
   "cell_type": "code",
   "execution_count": 131,
   "metadata": {},
   "outputs": [],
   "source": [
    "#updating test set\n",
    "locu_test_df.drop(['website'], axis = 1, inplace= True)\n",
    "fsq_test_df.drop(['website'], axis = 1, inplace= True)"
   ]
  },
  {
   "cell_type": "code",
   "execution_count": 132,
   "metadata": {},
   "outputs": [],
   "source": [
    "#adding prefix to col names\n",
    "locu_cols = list(locu_train_df.columns)\n",
    "fsq_cols = list(fsq_train_df.columns)\n",
    "\n",
    "new_locu_cols = ['locu' + '_' + str(x) for x in locu_cols]\n",
    "new_fsq_cols = ['fsq' + '_' + str(x) for x in fsq_cols]\n",
    "\n",
    "locu_train_df.columns = new_locu_cols\n",
    "fsq_train_df.columns = new_fsq_cols"
   ]
  },
  {
   "cell_type": "code",
   "execution_count": 133,
   "metadata": {},
   "outputs": [],
   "source": [
    "#updating test\n",
    "locu_cols_test = list(locu_test_df.columns)\n",
    "fsq_cols_test = list(fsq_test_df.columns)\n",
    "\n",
    "new_locu_cols_test = ['locu' + '_' + str(x) for x in locu_cols_test]\n",
    "new_fsq_cols_test = ['fsq' + '_' + str(x) for x in fsq_cols_test]\n",
    "\n",
    "locu_test_df.columns = new_locu_cols_test\n",
    "fsq_test_df.columns = new_fsq_cols_test"
   ]
  },
  {
   "cell_type": "code",
   "execution_count": 134,
   "metadata": {},
   "outputs": [],
   "source": [
    "#create dummy keys for cartesian product of DFs\n",
    "locu_train_df['key'] = 0\n",
    "fsq_train_df['key'] = 0\n",
    "\n",
    "#merge data\n",
    "locu_fsq_df = merge(locu_train_df,fsq_train_df,on='key')\n",
    "locu_fsq_df.drop(['key'],axis = 1, inplace = True)"
   ]
  },
  {
   "cell_type": "code",
   "execution_count": 135,
   "metadata": {},
   "outputs": [],
   "source": [
    "#updating test\n",
    "locu_test_df['key'] = 0\n",
    "fsq_test_df['key'] = 0\n",
    "\n",
    "#merge data\n",
    "locu_fsq_df_test = merge(locu_test_df,fsq_test_df,on='key')\n",
    "locu_fsq_df_test.drop(['key'],axis = 1, inplace = True)"
   ]
  },
  {
   "cell_type": "code",
   "execution_count": 136,
   "metadata": {},
   "outputs": [
    {
     "data": {
      "text/plain": [
       "(360000, 14)"
      ]
     },
     "execution_count": 136,
     "metadata": {},
     "output_type": "execute_result"
    }
   ],
   "source": [
    "locu_fsq_df.shape"
   ]
  },
  {
   "cell_type": "code",
   "execution_count": 137,
   "metadata": {},
   "outputs": [
    {
     "data": {
      "text/plain": [
       "(160000, 14)"
      ]
     },
     "execution_count": 137,
     "metadata": {},
     "output_type": "execute_result"
    }
   ],
   "source": [
    "locu_fsq_df_test.shape"
   ]
  },
  {
   "cell_type": "code",
   "execution_count": 138,
   "metadata": {},
   "outputs": [],
   "source": [
    "#creating a name for every combination under the column \n",
    "locu_fsq_df['combination'] = locu_fsq_df['locu_id'].astype(str) +'_'+ locu_fsq_df['fsq_id'].astype(str)\n",
    "\n",
    "matches_train['combination'] = matches_train['locu_id'].astype(str) +'_'+matches_train['foursquare_id'].astype(str)"
   ]
  },
  {
   "cell_type": "code",
   "execution_count": 139,
   "metadata": {},
   "outputs": [],
   "source": [
    "#updating test set \n",
    "locu_fsq_df_test['combination'] = locu_fsq_df_test['locu_id'].astype(str) +'_'+ locu_fsq_df_test['fsq_id'].astype(str)\n",
    "\n",
    "#matches_train['combination'] = matches_train['locu_id'].astype(str) +'_'+matches_train['foursquare_id'].astype(str)"
   ]
  },
  {
   "cell_type": "code",
   "execution_count": 140,
   "metadata": {},
   "outputs": [],
   "source": [
    "def add_label(combi):\n",
    "    if str(combi) in list(matches_train['combination']):\n",
    "        label = 1\n",
    "    else:\n",
    "        label = 0\n",
    "    return label"
   ]
  },
  {
   "cell_type": "code",
   "execution_count": 141,
   "metadata": {},
   "outputs": [],
   "source": [
    "#add training labels from matches_train\n",
    "locu_fsq_df['label'] = locu_fsq_df.apply(lambda x: add_label(x['combination']),axis=1)"
   ]
  },
  {
   "cell_type": "code",
   "execution_count": 142,
   "metadata": {
    "scrolled": false
   },
   "outputs": [
    {
     "data": {
      "text/plain": [
       "0    0.999\n",
       "1    0.001\n",
       "Name: label, dtype: float64"
      ]
     },
     "execution_count": 142,
     "metadata": {},
     "output_type": "execute_result"
    }
   ],
   "source": [
    "#Class imbalance \n",
    "locu_fsq_df['label'].value_counts()/locu_fsq_df.shape[0]"
   ]
  },
  {
   "cell_type": "code",
   "execution_count": 143,
   "metadata": {},
   "outputs": [],
   "source": [
    "def LevenshteinDistance_pkg(fsq,locu):\n",
    "    if fsq is None or locu is None:\n",
    "        lev_dist = 0\n",
    "    else:\n",
    "        lev_dist = lv.distance(fsq,locu)\n",
    "    return lev_dist"
   ]
  },
  {
   "cell_type": "code",
   "execution_count": 145,
   "metadata": {},
   "outputs": [],
   "source": [
    "locu_fsq_df['lev_dist_name'] = locu_fsq_df.apply(lambda x: LevenshteinDistance_pkg(x['fsq_name'],x['locu_name']),axis = 1)\n",
    "locu_fsq_df['lev_address'] = locu_fsq_df.apply(lambda x: LevenshteinDistance_pkg(x['fsq_street_address'],x['locu_street_address']),axis = 1)\n",
    "locu_fsq_df['phone_equal'] = (locu_fsq_df['locu_phone'] == locu_fsq_df['fsq_phone'])\n",
    "locu_fsq_df['phone_lev'] = locu_fsq_df.apply(lambda x: LevenshteinDistance_pkg(x['locu_phone'],x['fsq_phone']),axis = 1)\n",
    "locu_fsq_df['seq_dist_name']= locu_fsq_df.apply(lambda x: difflib.SequenceMatcher(a=x['fsq_name'].lower(),b=x['locu_name'].lower()).ratio(),axis = 1)\n",
    "#locu_fsq_df['seq_dist_name']= locu_fsq_df.apply(lambda x: difflib.SequenceMatcher(a=x['fsq_name'].lower(),b=x['locu_name'].lower()).ratio(),axis = 1)"
   ]
  },
  {
   "cell_type": "code",
   "execution_count": 146,
   "metadata": {},
   "outputs": [],
   "source": [
    "grouped = locu_fsq_df.groupby(by='label')\n",
    "avg_metric = grouped[['seq_dist_name', 'lev_dist_name', 'lev_address',\n",
    "       'phone_equal', 'phone_lev']].agg(np.mean)"
   ]
  },
  {
   "cell_type": "code",
   "execution_count": 147,
   "metadata": {},
   "outputs": [
    {
     "data": {
      "text/html": [
       "<div>\n",
       "<style scoped>\n",
       "    .dataframe tbody tr th:only-of-type {\n",
       "        vertical-align: middle;\n",
       "    }\n",
       "\n",
       "    .dataframe tbody tr th {\n",
       "        vertical-align: top;\n",
       "    }\n",
       "\n",
       "    .dataframe thead th {\n",
       "        text-align: right;\n",
       "    }\n",
       "</style>\n",
       "<table border=\"1\" class=\"dataframe\">\n",
       "  <thead>\n",
       "    <tr style=\"text-align: right;\">\n",
       "      <th></th>\n",
       "      <th>seq_dist_name</th>\n",
       "      <th>lev_dist_name</th>\n",
       "      <th>lev_address</th>\n",
       "      <th>phone_equal</th>\n",
       "      <th>phone_lev</th>\n",
       "    </tr>\n",
       "    <tr>\n",
       "      <th>label</th>\n",
       "      <th></th>\n",
       "      <th></th>\n",
       "      <th></th>\n",
       "      <th></th>\n",
       "      <th></th>\n",
       "    </tr>\n",
       "  </thead>\n",
       "  <tbody>\n",
       "    <tr>\n",
       "      <th>0</th>\n",
       "      <td>0.235871</td>\n",
       "      <td>18.344589</td>\n",
       "      <td>13.73521</td>\n",
       "      <td>0.000006</td>\n",
       "      <td>2.629602</td>\n",
       "    </tr>\n",
       "    <tr>\n",
       "      <th>1</th>\n",
       "      <td>0.931900</td>\n",
       "      <td>2.113889</td>\n",
       "      <td>1.47500</td>\n",
       "      <td>0.630556</td>\n",
       "      <td>0.161111</td>\n",
       "    </tr>\n",
       "  </tbody>\n",
       "</table>\n",
       "</div>"
      ],
      "text/plain": [
       "       seq_dist_name  lev_dist_name  lev_address  phone_equal  phone_lev\n",
       "label                                                                   \n",
       "0           0.235871      18.344589     13.73521     0.000006   2.629602\n",
       "1           0.931900       2.113889      1.47500     0.630556   0.161111"
      ]
     },
     "execution_count": 147,
     "metadata": {},
     "output_type": "execute_result"
    }
   ],
   "source": [
    "avg_metric"
   ]
  },
  {
   "cell_type": "code",
   "execution_count": 148,
   "metadata": {},
   "outputs": [],
   "source": [
    "max_metric = grouped[[ 'seq_dist_name', 'lev_dist_name', 'lev_address',\n",
    "       'phone_equal', 'phone_lev']].agg(np.max)"
   ]
  },
  {
   "cell_type": "code",
   "execution_count": 149,
   "metadata": {},
   "outputs": [
    {
     "data": {
      "text/html": [
       "<div>\n",
       "<style scoped>\n",
       "    .dataframe tbody tr th:only-of-type {\n",
       "        vertical-align: middle;\n",
       "    }\n",
       "\n",
       "    .dataframe tbody tr th {\n",
       "        vertical-align: top;\n",
       "    }\n",
       "\n",
       "    .dataframe thead th {\n",
       "        text-align: right;\n",
       "    }\n",
       "</style>\n",
       "<table border=\"1\" class=\"dataframe\">\n",
       "  <thead>\n",
       "    <tr style=\"text-align: right;\">\n",
       "      <th></th>\n",
       "      <th>seq_dist_name</th>\n",
       "      <th>lev_dist_name</th>\n",
       "      <th>lev_address</th>\n",
       "      <th>phone_equal</th>\n",
       "      <th>phone_lev</th>\n",
       "    </tr>\n",
       "    <tr>\n",
       "      <th>label</th>\n",
       "      <th></th>\n",
       "      <th></th>\n",
       "      <th></th>\n",
       "      <th></th>\n",
       "      <th></th>\n",
       "    </tr>\n",
       "  </thead>\n",
       "  <tbody>\n",
       "    <tr>\n",
       "      <th>0</th>\n",
       "      <td>1.0</td>\n",
       "      <td>79</td>\n",
       "      <td>62</td>\n",
       "      <td>True</td>\n",
       "      <td>11</td>\n",
       "    </tr>\n",
       "    <tr>\n",
       "      <th>1</th>\n",
       "      <td>1.0</td>\n",
       "      <td>28</td>\n",
       "      <td>43</td>\n",
       "      <td>True</td>\n",
       "      <td>10</td>\n",
       "    </tr>\n",
       "  </tbody>\n",
       "</table>\n",
       "</div>"
      ],
      "text/plain": [
       "       seq_dist_name  lev_dist_name  lev_address  phone_equal  phone_lev\n",
       "label                                                                   \n",
       "0                1.0             79           62         True         11\n",
       "1                1.0             28           43         True         10"
      ]
     },
     "execution_count": 149,
     "metadata": {},
     "output_type": "execute_result"
    }
   ],
   "source": [
    "max_metric"
   ]
  },
  {
   "cell_type": "code",
   "execution_count": 150,
   "metadata": {},
   "outputs": [],
   "source": [
    "min_metric = grouped[['seq_dist_name', 'lev_dist_name', 'lev_address',\n",
    "       'phone_equal', 'phone_lev']].agg(np.min)"
   ]
  },
  {
   "cell_type": "code",
   "execution_count": 151,
   "metadata": {},
   "outputs": [
    {
     "data": {
      "text/html": [
       "<div>\n",
       "<style scoped>\n",
       "    .dataframe tbody tr th:only-of-type {\n",
       "        vertical-align: middle;\n",
       "    }\n",
       "\n",
       "    .dataframe tbody tr th {\n",
       "        vertical-align: top;\n",
       "    }\n",
       "\n",
       "    .dataframe thead th {\n",
       "        text-align: right;\n",
       "    }\n",
       "</style>\n",
       "<table border=\"1\" class=\"dataframe\">\n",
       "  <thead>\n",
       "    <tr style=\"text-align: right;\">\n",
       "      <th></th>\n",
       "      <th>seq_dist_name</th>\n",
       "      <th>lev_dist_name</th>\n",
       "      <th>lev_address</th>\n",
       "      <th>phone_equal</th>\n",
       "      <th>phone_lev</th>\n",
       "    </tr>\n",
       "    <tr>\n",
       "      <th>label</th>\n",
       "      <th></th>\n",
       "      <th></th>\n",
       "      <th></th>\n",
       "      <th></th>\n",
       "      <th></th>\n",
       "    </tr>\n",
       "  </thead>\n",
       "  <tbody>\n",
       "    <tr>\n",
       "      <th>0</th>\n",
       "      <td>0.0</td>\n",
       "      <td>0</td>\n",
       "      <td>0</td>\n",
       "      <td>False</td>\n",
       "      <td>0</td>\n",
       "    </tr>\n",
       "    <tr>\n",
       "      <th>1</th>\n",
       "      <td>0.3</td>\n",
       "      <td>0</td>\n",
       "      <td>0</td>\n",
       "      <td>False</td>\n",
       "      <td>0</td>\n",
       "    </tr>\n",
       "  </tbody>\n",
       "</table>\n",
       "</div>"
      ],
      "text/plain": [
       "       seq_dist_name  lev_dist_name  lev_address  phone_equal  phone_lev\n",
       "label                                                                   \n",
       "0                0.0              0            0        False          0\n",
       "1                0.3              0            0        False          0"
      ]
     },
     "execution_count": 151,
     "metadata": {},
     "output_type": "execute_result"
    }
   ],
   "source": [
    "min_metric"
   ]
  },
  {
   "cell_type": "code",
   "execution_count": 152,
   "metadata": {},
   "outputs": [],
   "source": [
    "#Update test set\n",
    "locu_fsq_df_test['lev_dist_name'] = locu_fsq_df_test.apply(lambda x: LevenshteinDistance_pkg(x['fsq_name'],x['locu_name']),axis = 1)\n",
    "locu_fsq_df_test['lev_address'] = locu_fsq_df_test.apply(lambda x: LevenshteinDistance_pkg(x['fsq_street_address'],x['locu_street_address']),axis = 1)\n",
    "locu_fsq_df_test['phone_equal'] = (locu_fsq_df_test['locu_phone'] == locu_fsq_df_test['fsq_phone'])\n",
    "locu_fsq_df_test['phone_lev'] = locu_fsq_df_test.apply(lambda x: LevenshteinDistance_pkg(x['locu_phone'],x['fsq_phone']),axis = 1)\n",
    "locu_fsq_df_test['seq_dist_name']= locu_fsq_df_test.apply(lambda x: difflib.SequenceMatcher(a=x['fsq_name'].lower(),b=x['locu_name'].lower()).ratio(),axis = 1)\n",
    "#locu_fsq_df['seq_dist_name'] = locu_fsq_df.apply(lambda x: sequence(x['fsq_name'],x['locu_name']),axis = 1)\n",
    "#locu_fsq_df_test['sor_dist_name'] = locu_fsq_df_test.apply(lambda x: 1 - distance.sorensen(x['fsq_name'],x['locu_name']),axis = 1)\n",
    "#locu_fsq_df_test['jac_dist_name'] = locu_fsq_df_test.apply(lambda x: 1 - distance.jaccard(x['fsq_name'],x['locu_name']),axis = 1)"
   ]
  },
  {
   "cell_type": "code",
   "execution_count": 153,
   "metadata": {},
   "outputs": [],
   "source": [
    "# Feature: Distance between locu and foursquare places from lat long values\n",
    "\n",
    "import math\n",
    "\n",
    "def distance(lat1, lon1, lat2, lon2):\n",
    "    #lat1, lon1 = origin\n",
    "    #lat2, lon2 = destination\n",
    "    radius = 6371 # km\n",
    "\n",
    "    dlat = math.radians(lat2-lat1)\n",
    "    dlon = math.radians(lon2-lon1)\n",
    "    a = math.sin(dlat/2) * math.sin(dlat/2) + math.cos(math.radians(lat1)) \\\n",
    "        * math.cos(math.radians(lat2)) * math.sin(dlon/2) * math.sin(dlon/2)\n",
    "    c = 2 * math.atan2(math.sqrt(a), math.sqrt(1-a))\n",
    "    d = radius * c\n",
    "\n",
    "    return d\n",
    "\n",
    "locu_fsq_df['distance']=locu_fsq_df.apply(lambda x: distance(x['locu_latitude'],x['locu_longitude'],x['fsq_latitude'],x['fsq_longitude']),axis = 1)\n",
    "#locu_fsq_df_filtered['distance']=locu_fsq_df_filtered.apply(lambda x: distance(x['locu_latitude'],x['locu_longitude'],x['fsq_latitude'],x['fsq_longitude']),axis = 1)\n",
    "#dro[ lat long columns now]\n",
    "#locu_fsq_df_filtered.drop(['locu_latitude', 'locu_longitude', 'fsq_latitude', 'fsq_longitude'],inplace=True,axis=1)"
   ]
  },
  {
   "cell_type": "code",
   "execution_count": 154,
   "metadata": {},
   "outputs": [],
   "source": [
    "locu_fsq_df_test['distance']=locu_fsq_df_test.apply(lambda x: distance(x['locu_latitude'],x['locu_longitude'],x['fsq_latitude'],x['fsq_longitude']),axis = 1)"
   ]
  },
  {
   "cell_type": "code",
   "execution_count": 155,
   "metadata": {},
   "outputs": [
    {
     "name": "stdout",
     "output_type": "stream",
     "text": [
      "       distance  seq_dist_name\n",
      "label                         \n",
      "0      8.897255       0.235871\n",
      "1      0.195341       0.931900\n",
      "         distance  seq_dist_name\n",
      "label                           \n",
      "0      478.609103            1.0\n",
      "1       17.807884            1.0\n",
      "       distance  seq_dist_name\n",
      "label                         \n",
      "0      0.001135            0.0\n",
      "1      0.000000            0.3\n"
     ]
    }
   ],
   "source": [
    "group_dist = locu_fsq_df.groupby(by = 'label')\n",
    "avg_dist = group_dist[['distance','seq_dist_name']].agg(np.mean)\n",
    "print(avg_dist)\n",
    "max_dist = group_dist[['distance','seq_dist_name']].agg(np.max)\n",
    "print(max_dist)\n",
    "min_dist = group_dist[['distance','seq_dist_name']].agg(np.min)\n",
    "print(min_dist)"
   ]
  },
  {
   "cell_type": "code",
   "execution_count": 156,
   "metadata": {},
   "outputs": [
    {
     "data": {
      "text/html": [
       "<div>\n",
       "<style scoped>\n",
       "    .dataframe tbody tr th:only-of-type {\n",
       "        vertical-align: middle;\n",
       "    }\n",
       "\n",
       "    .dataframe tbody tr th {\n",
       "        vertical-align: top;\n",
       "    }\n",
       "\n",
       "    .dataframe thead th {\n",
       "        text-align: right;\n",
       "    }\n",
       "</style>\n",
       "<table border=\"1\" class=\"dataframe\">\n",
       "  <thead>\n",
       "    <tr style=\"text-align: right;\">\n",
       "      <th></th>\n",
       "      <th>count</th>\n",
       "      <th>mean</th>\n",
       "      <th>std</th>\n",
       "      <th>min</th>\n",
       "      <th>25%</th>\n",
       "      <th>50%</th>\n",
       "      <th>75%</th>\n",
       "      <th>max</th>\n",
       "    </tr>\n",
       "    <tr>\n",
       "      <th>label</th>\n",
       "      <th></th>\n",
       "      <th></th>\n",
       "      <th></th>\n",
       "      <th></th>\n",
       "      <th></th>\n",
       "      <th></th>\n",
       "      <th></th>\n",
       "      <th></th>\n",
       "    </tr>\n",
       "  </thead>\n",
       "  <tbody>\n",
       "    <tr>\n",
       "      <th>0</th>\n",
       "      <td>359040.0</td>\n",
       "      <td>8.897255</td>\n",
       "      <td>37.978743</td>\n",
       "      <td>0.001135</td>\n",
       "      <td>2.061748</td>\n",
       "      <td>3.808079</td>\n",
       "      <td>6.666724</td>\n",
       "      <td>478.609103</td>\n",
       "    </tr>\n",
       "    <tr>\n",
       "      <th>1</th>\n",
       "      <td>360.0</td>\n",
       "      <td>0.195341</td>\n",
       "      <td>1.296600</td>\n",
       "      <td>0.000000</td>\n",
       "      <td>0.000000</td>\n",
       "      <td>0.000000</td>\n",
       "      <td>0.020045</td>\n",
       "      <td>17.807884</td>\n",
       "    </tr>\n",
       "  </tbody>\n",
       "</table>\n",
       "</div>"
      ],
      "text/plain": [
       "          count      mean        std       min       25%       50%       75%  \\\n",
       "label                                                                          \n",
       "0      359040.0  8.897255  37.978743  0.001135  2.061748  3.808079  6.666724   \n",
       "1         360.0  0.195341   1.296600  0.000000  0.000000  0.000000  0.020045   \n",
       "\n",
       "              max  \n",
       "label              \n",
       "0      478.609103  \n",
       "1       17.807884  "
      ]
     },
     "execution_count": 156,
     "metadata": {},
     "output_type": "execute_result"
    }
   ],
   "source": [
    "group_dist['distance'].describe()"
   ]
  },
  {
   "cell_type": "code",
   "execution_count": 157,
   "metadata": {},
   "outputs": [
    {
     "data": {
      "text/html": [
       "<div>\n",
       "<style scoped>\n",
       "    .dataframe tbody tr th:only-of-type {\n",
       "        vertical-align: middle;\n",
       "    }\n",
       "\n",
       "    .dataframe tbody tr th {\n",
       "        vertical-align: top;\n",
       "    }\n",
       "\n",
       "    .dataframe thead th {\n",
       "        text-align: right;\n",
       "    }\n",
       "</style>\n",
       "<table border=\"1\" class=\"dataframe\">\n",
       "  <thead>\n",
       "    <tr style=\"text-align: right;\">\n",
       "      <th></th>\n",
       "      <th>count</th>\n",
       "      <th>mean</th>\n",
       "      <th>std</th>\n",
       "      <th>min</th>\n",
       "      <th>25%</th>\n",
       "      <th>50%</th>\n",
       "      <th>75%</th>\n",
       "      <th>max</th>\n",
       "    </tr>\n",
       "    <tr>\n",
       "      <th>label</th>\n",
       "      <th></th>\n",
       "      <th></th>\n",
       "      <th></th>\n",
       "      <th></th>\n",
       "      <th></th>\n",
       "      <th></th>\n",
       "      <th></th>\n",
       "      <th></th>\n",
       "    </tr>\n",
       "  </thead>\n",
       "  <tbody>\n",
       "    <tr>\n",
       "      <th>0</th>\n",
       "      <td>359640.0</td>\n",
       "      <td>0.235871</td>\n",
       "      <td>0.094141</td>\n",
       "      <td>0.0</td>\n",
       "      <td>0.171429</td>\n",
       "      <td>0.230769</td>\n",
       "      <td>0.294118</td>\n",
       "      <td>1.0</td>\n",
       "    </tr>\n",
       "    <tr>\n",
       "      <th>1</th>\n",
       "      <td>360.0</td>\n",
       "      <td>0.931900</td>\n",
       "      <td>0.158098</td>\n",
       "      <td>0.3</td>\n",
       "      <td>1.000000</td>\n",
       "      <td>1.000000</td>\n",
       "      <td>1.000000</td>\n",
       "      <td>1.0</td>\n",
       "    </tr>\n",
       "  </tbody>\n",
       "</table>\n",
       "</div>"
      ],
      "text/plain": [
       "          count      mean       std  min       25%       50%       75%  max\n",
       "label                                                                      \n",
       "0      359640.0  0.235871  0.094141  0.0  0.171429  0.230769  0.294118  1.0\n",
       "1         360.0  0.931900  0.158098  0.3  1.000000  1.000000  1.000000  1.0"
      ]
     },
     "execution_count": 157,
     "metadata": {},
     "output_type": "execute_result"
    }
   ],
   "source": [
    "group_dist['seq_dist_name'].describe()"
   ]
  },
  {
   "cell_type": "code",
   "execution_count": 158,
   "metadata": {},
   "outputs": [],
   "source": [
    "# locu_fsq_df_filtered = locu_fsq_df[locu_fsq_df['distance']  < 20]\n",
    "# locu_fsq_df_filtered = locu_fsq_df_filtered[locu_fsq_df_filtered['seq_dist_name']  > 0.25]"
   ]
  },
  {
   "cell_type": "code",
   "execution_count": 159,
   "metadata": {},
   "outputs": [
    {
     "data": {
      "text/plain": [
       "(78961, 22)"
      ]
     },
     "execution_count": 159,
     "metadata": {},
     "output_type": "execute_result"
    }
   ],
   "source": [
    "locu_fsq_df_filtered = locu_fsq_df[locu_fsq_df['distance']  < 15]\n",
    "locu_fsq_df_filtered = locu_fsq_df_filtered[locu_fsq_df_filtered['seq_dist_name']  > 0.3]\n",
    "locu_fsq_df_filtered.shape"
   ]
  },
  {
   "cell_type": "code",
   "execution_count": 160,
   "metadata": {},
   "outputs": [
    {
     "data": {
      "text/plain": [
       "0    78603\n",
       "1      358\n",
       "Name: label, dtype: int64"
      ]
     },
     "execution_count": 160,
     "metadata": {},
     "output_type": "execute_result"
    }
   ],
   "source": [
    "locu_fsq_df_filtered.label.value_counts()"
   ]
  },
  {
   "cell_type": "code",
   "execution_count": 161,
   "metadata": {},
   "outputs": [],
   "source": [
    "# #Update Test set\n",
    "# locu_fsq_df_test = locu_fsq_df_test[locu_fsq_df_test['distance']  < 20]\n",
    "# locu_fsq_df_test = locu_fsq_df_test[locu_fsq_df_test['seq_dist_name']  > 0.25]"
   ]
  },
  {
   "cell_type": "code",
   "execution_count": 162,
   "metadata": {},
   "outputs": [],
   "source": [
    "#Update Test set\n",
    "locu_fsq_df_test = locu_fsq_df_test[locu_fsq_df_test['distance']  < 15]\n",
    "locu_fsq_df_test = locu_fsq_df_test[locu_fsq_df_test['seq_dist_name']  > 0.3]"
   ]
  },
  {
   "cell_type": "code",
   "execution_count": 163,
   "metadata": {},
   "outputs": [],
   "source": [
    "locu_fsq_df_filtered.drop(['locu_id','locu_name', 'locu_phone',\n",
    "         'fsq_id','fsq_name', 'fsq_phone'],axis=1,inplace=True)"
   ]
  },
  {
   "cell_type": "code",
   "execution_count": 164,
   "metadata": {},
   "outputs": [],
   "source": [
    "locu_fsq_df_test.drop(['locu_id','locu_name', 'locu_phone',\n",
    "         'fsq_id','fsq_name', 'fsq_phone'],axis=1,inplace=True)"
   ]
  },
  {
   "cell_type": "code",
   "execution_count": 165,
   "metadata": {},
   "outputs": [
    {
     "data": {
      "text/plain": [
       "Index(['locu_latitude', 'locu_longitude', 'locu_postal_code',\n",
       "       'locu_street_address', 'fsq_latitude', 'fsq_longitude',\n",
       "       'fsq_postal_code', 'fsq_street_address', 'combination', 'label',\n",
       "       'lev_dist_name', 'lev_address', 'phone_equal', 'phone_lev',\n",
       "       'seq_dist_name', 'distance'],\n",
       "      dtype='object')"
      ]
     },
     "execution_count": 165,
     "metadata": {},
     "output_type": "execute_result"
    }
   ],
   "source": [
    "locu_fsq_df_filtered.columns"
   ]
  },
  {
   "cell_type": "code",
   "execution_count": 166,
   "metadata": {},
   "outputs": [
    {
     "name": "stderr",
     "output_type": "stream",
     "text": [
      "/Users/divyahindupur/anaconda2/envs/py35/lib/python3.5/site-packages/ipykernel_launcher.py:4: FutureWarning: currently extract(expand=None) means expand=False (return Index/Series/DataFrame) but in a future version of pandas this will be changed to expand=True (return DataFrame)\n",
      "  after removing the cwd from sys.path.\n",
      "/Users/divyahindupur/anaconda2/envs/py35/lib/python3.5/site-packages/ipykernel_launcher.py:5: FutureWarning: currently extract(expand=None) means expand=False (return Index/Series/DataFrame) but in a future version of pandas this will be changed to expand=True (return DataFrame)\n",
      "  \"\"\"\n"
     ]
    }
   ],
   "source": [
    "#feature: Does the first numeric value in the address field match?\n",
    "\n",
    "#locu_fsq_df_filtered[['fsq_street_address','locu_street_address']]\n",
    "first_fsq = locu_fsq_df_filtered.fsq_street_address.str.extract('(\\d+)').str[0]\n",
    "first_loc = locu_fsq_df_filtered.locu_street_address.str.extract('(\\d+)').str[0]\n",
    "locu_fsq_df_filtered['FirstAdrrDigit'] = (first_fsq==first_loc)"
   ]
  },
  {
   "cell_type": "code",
   "execution_count": 167,
   "metadata": {},
   "outputs": [
    {
     "name": "stderr",
     "output_type": "stream",
     "text": [
      "/Users/divyahindupur/anaconda2/envs/py35/lib/python3.5/site-packages/ipykernel_launcher.py:3: FutureWarning: currently extract(expand=None) means expand=False (return Index/Series/DataFrame) but in a future version of pandas this will be changed to expand=True (return DataFrame)\n",
      "  This is separate from the ipykernel package so we can avoid doing imports until\n",
      "/Users/divyahindupur/anaconda2/envs/py35/lib/python3.5/site-packages/ipykernel_launcher.py:4: FutureWarning: currently extract(expand=None) means expand=False (return Index/Series/DataFrame) but in a future version of pandas this will be changed to expand=True (return DataFrame)\n",
      "  after removing the cwd from sys.path.\n"
     ]
    }
   ],
   "source": [
    "# Same feature for test\n",
    "\n",
    "first_fsqt = locu_fsq_df_test.fsq_street_address.str.extract('(\\d+)').str[0]\n",
    "first_loct = locu_fsq_df_test.locu_street_address.str.extract('(\\d+)').str[0]\n",
    "locu_fsq_df_test['FirstAdrrDigit'] = (first_fsqt==first_loct)"
   ]
  },
  {
   "cell_type": "code",
   "execution_count": 168,
   "metadata": {},
   "outputs": [],
   "source": [
    "#We dont need individual name strings > drop\n",
    "locu_fsq_df_filtered.drop(['fsq_street_address','locu_street_address'],inplace=True,axis= 1)\n"
   ]
  },
  {
   "cell_type": "code",
   "execution_count": 169,
   "metadata": {},
   "outputs": [],
   "source": [
    "# updating test\n",
    "\n",
    "#We dont need individual name strings > drop\n",
    "locu_fsq_df_test.drop(['fsq_street_address','locu_street_address'],inplace=True,axis= 1)\n"
   ]
  },
  {
   "cell_type": "code",
   "execution_count": 170,
   "metadata": {},
   "outputs": [
    {
     "data": {
      "text/plain": [
       "Index(['locu_latitude', 'locu_longitude', 'locu_postal_code', 'fsq_latitude',\n",
       "       'fsq_longitude', 'fsq_postal_code', 'combination', 'label',\n",
       "       'lev_dist_name', 'lev_address', 'phone_equal', 'phone_lev',\n",
       "       'seq_dist_name', 'distance', 'FirstAdrrDigit'],\n",
       "      dtype='object')"
      ]
     },
     "execution_count": 170,
     "metadata": {},
     "output_type": "execute_result"
    }
   ],
   "source": [
    "locu_fsq_df_filtered.columns"
   ]
  },
  {
   "cell_type": "code",
   "execution_count": 171,
   "metadata": {},
   "outputs": [
    {
     "data": {
      "text/plain": [
       "locu_latitude     0\n",
       "locu_longitude    0\n",
       "fsq_latitude      0\n",
       "fsq_longitude     0\n",
       "combination       0\n",
       "lev_dist_name     0\n",
       "lev_address       0\n",
       "phone_equal       0\n",
       "phone_lev         0\n",
       "seq_dist_name     0\n",
       "distance          0\n",
       "FirstAdrrDigit    0\n",
       "dtype: int64"
      ]
     },
     "execution_count": 171,
     "metadata": {},
     "output_type": "execute_result"
    }
   ],
   "source": [
    "locu_fsq_df_test.drop(['locu_postal_code','fsq_postal_code'],inplace=True,axis=1)\n",
    "locu_fsq_df_filtered.drop(['locu_postal_code','fsq_postal_code'],inplace=True,axis=1)\n",
    "locu_fsq_df_test.isnull().sum()"
   ]
  },
  {
   "cell_type": "markdown",
   "metadata": {},
   "source": [
    "## Model Fitting:"
   ]
  },
  {
   "cell_type": "markdown",
   "metadata": {},
   "source": [
    "### Data Prep:"
   ]
  },
  {
   "cell_type": "code",
   "execution_count": 172,
   "metadata": {},
   "outputs": [],
   "source": [
    "#making x and y arrays\n",
    "y = locu_fsq_df_filtered['label'].values\n",
    "\n",
    "x = locu_fsq_df_filtered[[x for x in list(locu_fsq_df_filtered.columns) if x not in ['combination','label','locu_latitude', 'locu_longitude', 'fsq_latitude', 'fsq_longitude']]].values"
   ]
  },
  {
   "cell_type": "code",
   "execution_count": 173,
   "metadata": {},
   "outputs": [],
   "source": [
    "#updating test\n",
    "x_hold_out = locu_fsq_df_test[[k for k in list(locu_fsq_df_test.columns) if k not in ['combination','label','locu_latitude', 'locu_longitude', 'fsq_latitude', 'fsq_longitude']]].values"
   ]
  },
  {
   "cell_type": "code",
   "execution_count": 174,
   "metadata": {},
   "outputs": [],
   "source": [
    "x_train,x_test,y_train,y_test=sksplit(x,y,random_state=10,stratify = y)"
   ]
  },
  {
   "cell_type": "code",
   "execution_count": 175,
   "metadata": {
    "scrolled": true
   },
   "outputs": [
    {
     "name": "stdout",
     "output_type": "stream",
     "text": [
      "{'n_estimators': 50, 'max_features': 'sqrt'}\n"
     ]
    }
   ],
   "source": [
    "#Random Forests: Grid Search CV\n",
    "rfc = ensemble.RandomForestClassifier(n_jobs=-1, oob_score = False) \n",
    "f1_scorer = make_scorer(f1_score)\n",
    "param_grid = { \n",
    "    'n_estimators': [50,100, 150],\n",
    "    'max_features': ['auto', 'sqrt', 'log2']\n",
    "}\n",
    "\n",
    "CV_rfc = GridSearchCV(estimator=rfc, param_grid=param_grid, cv= 5,scoring=f1_scorer)\n",
    "#CV_rfc.fit(x_train, y_train)\n",
    "CV_rfc.fit(x_train, y_train)\n",
    "print(CV_rfc.best_params_)"
   ]
  },
  {
   "cell_type": "code",
   "execution_count": 176,
   "metadata": {},
   "outputs": [
    {
     "name": "stdout",
     "output_type": "stream",
     "text": [
      "Training score with the above params: 1.0\n"
     ]
    }
   ],
   "source": [
    "CV_rfc_best_estimator = CV_rfc.best_estimator_\n",
    "print(\"Training score with the above params:\",CV_rfc_best_estimator.score(x_train, y_train) )"
   ]
  },
  {
   "cell_type": "markdown",
   "metadata": {},
   "source": [
    "## Best model fit to train and test split of train"
   ]
  },
  {
   "cell_type": "code",
   "execution_count": 177,
   "metadata": {},
   "outputs": [
    {
     "data": {
      "text/plain": [
       "(1.0, 1.0, 1.0, None)"
      ]
     },
     "execution_count": 177,
     "metadata": {},
     "output_type": "execute_result"
    }
   ],
   "source": [
    "##Best fit to test train split\n",
    "CV_rfc_best_estimator.fit(x_train, y_train)\n",
    "best_pred = CV_rfc_best_estimator.predict(x_test)\n",
    "from sklearn.metrics import precision_recall_fscore_support\n",
    "precision_recall_fscore_support(y_test, best_pred, average='binary')\n"
   ]
  },
  {
   "cell_type": "markdown",
   "metadata": {},
   "source": [
    "# Train on whole train and test on hold-out(competition site)"
   ]
  },
  {
   "cell_type": "code",
   "execution_count": 178,
   "metadata": {},
   "outputs": [],
   "source": [
    "##train with whole data\n",
    "#x_sm, y_sm = sm.fit_sample(x,y)\n",
    "final_estimator_RF = CV_rfc.best_estimator_\n",
    "final_estimator_RF.fit(x,y)\n",
    "final_pred = final_estimator_RF.predict(x_hold_out)"
   ]
  },
  {
   "cell_type": "code",
   "execution_count": 179,
   "metadata": {
    "scrolled": true
   },
   "outputs": [
    {
     "data": {
      "text/plain": [
       "array([0.15800717, 0.05429842, 0.18136118, 0.01509045, 0.22434801,\n",
       "       0.34618314, 0.02071162])"
      ]
     },
     "execution_count": 179,
     "metadata": {},
     "output_type": "execute_result"
    }
   ],
   "source": [
    "final_estimator_RF.feature_importances_"
   ]
  },
  {
   "cell_type": "code",
   "execution_count": 180,
   "metadata": {},
   "outputs": [
    {
     "data": {
      "text/plain": [
       "Index(['locu_latitude', 'locu_longitude', 'fsq_latitude', 'fsq_longitude',\n",
       "       'combination', 'label', 'lev_dist_name', 'lev_address', 'phone_equal',\n",
       "       'phone_lev', 'seq_dist_name', 'distance', 'FirstAdrrDigit'],\n",
       "      dtype='object')"
      ]
     },
     "execution_count": 180,
     "metadata": {},
     "output_type": "execute_result"
    }
   ],
   "source": [
    "locu_fsq_df_filtered.columns"
   ]
  },
  {
   "cell_type": "code",
   "execution_count": 181,
   "metadata": {},
   "outputs": [],
   "source": [
    "#give matches in the csv format specified\n",
    "pred_df = pd.DataFrame(locu_fsq_df_test['combination'].str.split('_',1).tolist(),\n",
    "                                   columns = ['locu_id', 'foursquare_id'])\n",
    "pred_df['lev_dist_name']=list(locu_fsq_df_test['lev_dist_name'])\n",
    "\n",
    "#choose only matches\n",
    "matches_test = pred_df[final_pred==1]\n",
    "\n",
    "#if multiple matches for same locu_id, choose the one with smallest lev distance between name strings\n",
    "groups = matches_test.groupby(by=['locu_id'])\n",
    "final = groups.apply(lambda g: g[g['lev_dist_name'] == g['lev_dist_name'].min()]).reset_index(drop=True)\n",
    "\n",
    "final.to_csv('matches_test_new.csv')"
   ]
  },
  {
   "cell_type": "code",
   "execution_count": null,
   "metadata": {},
   "outputs": [],
   "source": []
  }
 ],
 "metadata": {
  "kernelspec": {
   "display_name": "Python (py35)",
   "language": "python",
   "name": "py35"
  },
  "language_info": {
   "codemirror_mode": {
    "name": "ipython",
    "version": 3
   },
   "file_extension": ".py",
   "mimetype": "text/x-python",
   "name": "python",
   "nbconvert_exporter": "python",
   "pygments_lexer": "ipython3",
   "version": "3.5.4"
  }
 },
 "nbformat": 4,
 "nbformat_minor": 2
}
